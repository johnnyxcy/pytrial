{
 "cells": [
  {
   "cell_type": "code",
   "execution_count": null,
   "metadata": {},
   "outputs": [],
   "source": [
    "import sys, os\n",
    "sys.path.append(\"..\")\n",
    "os.chdir('/Users/johnnyxcy/Workspace/OpenSource/PyTrail/pytrial')"
   ]
  },
  {
   "cell_type": "code",
   "execution_count": null,
   "metadata": {},
   "outputs": [],
   "source": [
    "from pytrial.data.demo_data import load_mimic_ehr_sequence, load_trial_outcome_data"
   ]
  },
  {
   "cell_type": "code",
   "execution_count": null,
   "metadata": {},
   "outputs": [],
   "source": [
    "from pytrial.tasks.trial_patient_match.data import TrialData, PatientData"
   ]
  },
  {
   "cell_type": "code",
   "execution_count": null,
   "metadata": {},
   "outputs": [],
   "source": [
    "df = load_trial_outcome_data()['data']"
   ]
  },
  {
   "cell_type": "code",
   "execution_count": null,
   "metadata": {},
   "outputs": [],
   "source": [
    "df.columns"
   ]
  },
  {
   "cell_type": "code",
   "execution_count": null,
   "metadata": {},
   "outputs": [],
   "source": [
    "df = df.iloc[:10] # make subsampling\n",
    "trial_data = TrialData(df,encode_ec=True)"
   ]
  },
  {
   "cell_type": "code",
   "execution_count": null,
   "metadata": {},
   "outputs": [],
   "source": [
    "df"
   ]
  },
  {
   "cell_type": "code",
   "execution_count": null,
   "metadata": {},
   "outputs": [],
   "source": [
    "# build patient data class\n",
    "\n",
    "# load demo ehr sequence\n",
    "ehr = load_mimic_ehr_sequence(n_sample=1000)\n",
    "\n",
    "# we first simulate the eligibility criteria matching labels for each patient\n",
    "num_inc_ec = len(trial_data.inc_vocab)\n",
    "num_exc_ec = len(trial_data.exc_vocab)\n",
    "ec_label_list = []\n",
    "for i in range(len(ehr['feature'])):\n",
    "    # randomly choose a trial that this patient satisfies\n",
    "    trial = df.sample(1)\n",
    "    ec_label_list.append([trial['inclusion_criteria_index'].values[0], trial['exclusion_criteria_index'].values[0]])"
   ]
  },
  {
   "cell_type": "code",
   "execution_count": null,
   "metadata": {},
   "outputs": [],
   "source": [
    "# build patient seq data\n",
    "# ec_label_list, first is matched inclusion criteria, second is matched exclusion criteria\n",
    "ehr_data = PatientData(\n",
    "    data={'v':ehr['visit'], 'y': ec_label_list,  'x':ehr['feature'],},\n",
    "    metadata={\n",
    "        'visit': {'mode':'dense', 'order':ehr['order']},\n",
    "        'label': {'mode':'dense'},\n",
    "        'voc': ehr['voc'],\n",
    "        },\n",
    ")"
   ]
  },
  {
   "cell_type": "code",
   "execution_count": null,
   "metadata": {},
   "outputs": [],
   "source": [
    "ehr_data"
   ]
  },
  {
   "cell_type": "code",
   "execution_count": null,
   "metadata": {},
   "outputs": [],
   "source": [
    "from pytrial.tasks.trial_patient_match import DeepEnroll"
   ]
  },
  {
   "cell_type": "code",
   "execution_count": null,
   "metadata": {},
   "outputs": [],
   "source": [
    "model = DeepEnroll(\n",
    "    vocab_size=[len(ehr[\"voc\"][o]) for o in ehr[\"order\"]],\n",
    "    order=ehr[\"order\"],\n",
    "    epochs=5,\n",
    "    batch_size=128,\n",
    "    device=\"cpu\",\n",
    ")"
   ]
  },
  {
   "cell_type": "code",
   "execution_count": null,
   "metadata": {},
   "outputs": [],
   "source": [
    "model.fit(\n",
    "    train_data={'patient':ehr_data, 'trial':trial_data},\n",
    "    valid_data={'patient':ehr_data, 'trial':trial_data},\n",
    ")"
   ]
  },
  {
   "cell_type": "code",
   "execution_count": null,
   "metadata": {},
   "outputs": [],
   "source": [
    "# make predictions\n",
    "res = model.predict(test_data={\n",
    "    'patient': ehr_data,\n",
    "    'trial': trial_data,\n",
    "    }, return_dict=True)"
   ]
  },
  {
   "cell_type": "code",
   "execution_count": null,
   "metadata": {},
   "outputs": [],
   "source": [
    "res[\"pred_trial\"].keys()"
   ]
  },
  {
   "cell_type": "code",
   "execution_count": null,
   "metadata": {},
   "outputs": [],
   "source": [
    "df_test = load_trial_outcome_data(split=\"test\")['data']\n",
    "trial_data_test = TrialData(df_test,encode_ec=True)"
   ]
  },
  {
   "cell_type": "code",
   "execution_count": null,
   "metadata": {},
   "outputs": [],
   "source": [
    "res_test = model.predict(test_data={\n",
    "    'patient': ehr_data,\n",
    "    'trial': trial_data_test,\n",
    "}, return_dict=True)"
   ]
  },
  {
   "cell_type": "code",
   "execution_count": null,
   "metadata": {},
   "outputs": [],
   "source": [
    "import numpy as np"
   ]
  },
  {
   "cell_type": "code",
   "execution_count": null,
   "metadata": {},
   "outputs": [],
   "source": [
    "ehr_data.metadata"
   ]
  },
  {
   "cell_type": "code",
   "execution_count": null,
   "metadata": {},
   "outputs": [],
   "source": [
    "len(res_test['pred_trial'][\"NCT01288573\"])"
   ]
  },
  {
   "cell_type": "code",
   "execution_count": null,
   "metadata": {},
   "outputs": [],
   "source": [
    "for k in res[\"pred_trial\"].keys():\n",
    "    print(sum(res[\"pred_trial\"][k]))"
   ]
  }
 ],
 "metadata": {
  "kernelspec": {
   "display_name": ".venv",
   "language": "python",
   "name": "python3"
  },
  "language_info": {
   "codemirror_mode": {
    "name": "ipython",
    "version": 3
   },
   "file_extension": ".py",
   "mimetype": "text/x-python",
   "name": "python",
   "nbconvert_exporter": "python",
   "pygments_lexer": "ipython3",
   "version": "3.10.8"
  }
 },
 "nbformat": 4,
 "nbformat_minor": 2
}
